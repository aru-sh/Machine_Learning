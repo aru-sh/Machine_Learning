{
 "cells": [
  {
   "cell_type": "markdown",
   "metadata": {},
   "source": [
    "<center><h2>Decision Trees</h2></center>\n",
    "<center><h3>Arush Sharma 16BCE1127</h3></center>"
   ]
  },
  {
   "cell_type": "markdown",
   "metadata": {},
   "source": [
    "<h4>Implementation on dataset given in class</h4>"
   ]
  },
  {
   "cell_type": "code",
   "execution_count": 15,
   "metadata": {},
   "outputs": [],
   "source": [
    "import pandas as pd\n",
    "import numpy as np\n",
    "from sklearn import tree"
   ]
  },
  {
   "cell_type": "markdown",
   "metadata": {},
   "source": [
    "<h4>Reading CSV file</h4>"
   ]
  },
  {
   "cell_type": "code",
   "execution_count": 16,
   "metadata": {},
   "outputs": [],
   "source": [
    "data=pd.read_csv(\"C:\\\\Users\\\\Arush\\\\Desktop\\\\ML Lab\\\\lab1.csv\")"
   ]
  },
  {
   "cell_type": "code",
   "execution_count": 17,
   "metadata": {
    "scrolled": true
   },
   "outputs": [
    {
     "name": "stdout",
     "output_type": "stream",
     "text": [
      "        age  income student credit_rating buys_computer\n",
      "0      <=30    high      no          fair            no\n",
      "1      <=30    high      no     excellent            no\n",
      "2   31...40    high      no          fair           yes\n",
      "3       >40  medium      no          fair           yes\n",
      "4       >40     low     yes          fair           yes\n",
      "5       >40     low     yes     excellent            no\n",
      "6   31...40     low     yes     excellent           yes\n",
      "7      <=30  medium      no          fair            no\n",
      "8      <=30     low     yes          fair           yes\n",
      "9       >40  medium     yes          fair           yes\n",
      "10     <=30  medium     yes     excellent           yes\n",
      "11  31...40  medium      no     excellent           yes\n",
      "12  31...40    high     yes          fair           yes\n",
      "13      >40  medium      no     excellent            no\n"
     ]
    }
   ],
   "source": [
    "datacopy=data.copy()\n",
    "print(data)"
   ]
  },
  {
   "cell_type": "markdown",
   "metadata": {},
   "source": [
    "<h4>Name and count of discrete values in a particular column</h4>"
   ]
  },
  {
   "cell_type": "code",
   "execution_count": 18,
   "metadata": {},
   "outputs": [
    {
     "data": {
      "text/plain": [
       "yes    9\n",
       "no     5\n",
       "Name: buys_computer, dtype: int64"
      ]
     },
     "execution_count": 18,
     "metadata": {},
     "output_type": "execute_result"
    }
   ],
   "source": [
    "data['age'].value_counts()\n",
    "data['income'].value_counts()\n",
    "data['student'].value_counts()\n",
    "data['credit_rating'].value_counts()\n",
    "data['buys_computer'].value_counts()"
   ]
  },
  {
   "cell_type": "markdown",
   "metadata": {},
   "source": [
    "<h4>Replacing the string value with integers so as to fit correctly</h4>"
   ]
  },
  {
   "cell_type": "code",
   "execution_count": 19,
   "metadata": {},
   "outputs": [],
   "source": [
    "newcategory={\"age\":{\"<=30\":0,\"31...40\":1,\">40\":2}, \"income\":{\"low\":0,\"medium\":1,\"high\":2}, \"student\":{\"yes\":0,\"no\":1},\"credit_rating\":{\"fair\":0,\"excellent\":1},\"buys_computer\":{\"no\":0,\"yes\":1}}\n",
    "datacopy.replace(newcategory,inplace=True)"
   ]
  },
  {
   "cell_type": "code",
   "execution_count": 20,
   "metadata": {
    "scrolled": false
   },
   "outputs": [
    {
     "name": "stdout",
     "output_type": "stream",
     "text": [
      "    age  income  student  credit_rating  buys_computer\n",
      "0     0       2        1              0              0\n",
      "1     0       2        1              1              0\n",
      "2     1       2        1              0              1\n",
      "3     2       1        1              0              1\n",
      "4     2       0        0              0              1\n",
      "5     2       0        0              1              0\n",
      "6     1       0        0              1              1\n",
      "7     0       1        1              0              0\n",
      "8     0       0        0              0              1\n",
      "9     2       1        0              0              1\n",
      "10    0       1        0              1              1\n",
      "11    1       1        1              1              1\n",
      "12    1       2        0              0              1\n",
      "13    2       1        1              1              0\n"
     ]
    }
   ],
   "source": [
    "print(datacopy)"
   ]
  },
  {
   "cell_type": "markdown",
   "metadata": {},
   "source": [
    "<h4>Creating a Decision Tree Classifier using sklearn pre-defined function</h4>"
   ]
  },
  {
   "cell_type": "code",
   "execution_count": 21,
   "metadata": {},
   "outputs": [],
   "source": [
    "from sklearn.model_selection import train_test_split\n",
    "clf=tree.DecisionTreeClassifier()\n",
    "X=datacopy[['age','income','student','credit_rating']]\n",
    "y=datacopy['buys_computer']\n",
    "X_train, X_test, y_train, y_test = train_test_split(X, y, test_size=0.2, random_state=42)\n",
    "clf=clf.fit(X_train,y_train)"
   ]
  },
  {
   "cell_type": "markdown",
   "metadata": {},
   "source": [
    "<h4>Predicting the output given two inputs</h4>"
   ]
  },
  {
   "cell_type": "code",
   "execution_count": 22,
   "metadata": {},
   "outputs": [
    {
     "name": "stdout",
     "output_type": "stream",
     "text": [
      "\n",
      "The actual output class is \n",
      " 9     1\n",
      "11    1\n",
      "0     0\n",
      "Name: buys_computer, dtype: int64\n",
      "\n",
      "The output from decision tree [1 0 0]\n"
     ]
    }
   ],
   "source": [
    "print(\"\\nThe actual output class is \\n\",y_test.head())\n",
    "X_test=np.array(X_test)\n",
    "prediction=np.array(clf.predict(X_test))\n",
    "print(\"\\nThe output from decision tree\",prediction)"
   ]
  },
  {
   "cell_type": "markdown",
   "metadata": {},
   "source": [
    "<h4>Definining accuracy function</h4>"
   ]
  },
  {
   "cell_type": "code",
   "execution_count": 23,
   "metadata": {},
   "outputs": [],
   "source": [
    "def accuracy(a, b):\n",
    "    sum1=0\n",
    "    for i in range(0,len(a)):\n",
    "        if(a[i]==b[i]):\n",
    "            sum1+=1\n",
    "    \n",
    "    return sum1*100/len(a)\n"
   ]
  },
  {
   "cell_type": "code",
   "execution_count": 24,
   "metadata": {},
   "outputs": [
    {
     "name": "stdout",
     "output_type": "stream",
     "text": [
      "The test accuracy is\n"
     ]
    },
    {
     "data": {
      "text/plain": [
       "66.66666666666667"
      ]
     },
     "execution_count": 24,
     "metadata": {},
     "output_type": "execute_result"
    }
   ],
   "source": [
    "truth=[]\n",
    "predict=[]\n",
    "\n",
    "for i in prediction:\n",
    "    predict.append(i)\n",
    "    \n",
    "for i in y_test:\n",
    "    truth.append(i)\n",
    "    \n",
    "print(\"The test accuracy is\")\n",
    "accuracy(truth,predict)"
   ]
  },
  {
   "cell_type": "markdown",
   "metadata": {},
   "source": [
    "<p> As we can see the the test accuracy came out to be 66.66% which is quite good accuracy given the amount data is very less</p>"
   ]
  },
  {
   "cell_type": "markdown",
   "metadata": {},
   "source": [
    "<center><h1>Implementation on my dataset</h1></center>"
   ]
  },
  {
   "cell_type": "markdown",
   "metadata": {},
   "source": [
    "<p>My original dataset is Melbourne Housing Dataset, but as it is a regression based dataset, for this lab implementation, I will be implementing on Mushroom dataset which is available on UCI Machine Learning Repository. It consist of various characteristics of mushrooms and based on that characteristics the mushoom categorized as poisnous or not poisonous.</p>"
   ]
  },
  {
   "cell_type": "code",
   "execution_count": 25,
   "metadata": {},
   "outputs": [],
   "source": [
    "data=pd.read_csv(\"mushroom.csv\")"
   ]
  },
  {
   "cell_type": "code",
   "execution_count": 26,
   "metadata": {},
   "outputs": [
    {
     "data": {
      "text/plain": [
       "['class',\n",
       " 'capshape',\n",
       " 'capsurface',\n",
       " 'capcolor',\n",
       " 'bruises',\n",
       " 'odor',\n",
       " 'gillattach',\n",
       " 'gillspace',\n",
       " 'gillsize',\n",
       " 'gillcolor',\n",
       " 'stalkshape',\n",
       " 'stalkroot',\n",
       " 'stalksurfar',\n",
       " 'stalksurfbr',\n",
       " 'stalkcolorar',\n",
       " 'stalkcolorbr',\n",
       " 'veiltype',\n",
       " 'veilcolor',\n",
       " 'ringnumber',\n",
       " 'ringtype',\n",
       " 'sporeprint',\n",
       " 'pop',\n",
       " 'habitat']"
      ]
     },
     "execution_count": 26,
     "metadata": {},
     "output_type": "execute_result"
    }
   ],
   "source": [
    "list(data)"
   ]
  },
  {
   "cell_type": "code",
   "execution_count": 27,
   "metadata": {},
   "outputs": [
    {
     "name": "stdout",
     "output_type": "stream",
     "text": [
      "w    2388\n",
      "n    1968\n",
      "k    1872\n",
      "h    1632\n",
      "r      72\n",
      "o      48\n",
      "y      48\n",
      "b      48\n",
      "u      48\n",
      "Name: sporeprint, dtype: int64\n"
     ]
    }
   ],
   "source": [
    "print(data['sporeprint'].value_counts())"
   ]
  },
  {
   "cell_type": "markdown",
   "metadata": {},
   "source": [
    "<h4>Replacing the string value with integers so the function works correctly</h4>"
   ]
  },
  {
   "cell_type": "code",
   "execution_count": 28,
   "metadata": {},
   "outputs": [],
   "source": [
    "newcategory={\"class\":{\"e\":0,\"p\":1},\n",
    "             \"capshape\":{\"x\":0,\"f\":1,\"k\":2,\"b\":3,\"s\":4,\"c\":5},\n",
    "             \"capsurface\":{\"y\":0,\"s\":1,\"f\":2,\"g\":3},\n",
    "             \"capcolor\":{\"n\":0,\"g\":1,\"e\":2,\"y\":3,\"w\":4,\"b\":5,\"p\":6,\"c\":7,\"u\":8,\"r\":9},\n",
    "             \"bruises\":{\"f\":0,\"t\":1},\n",
    "             \"odor\":{\"n\":0,\"f\":1,\"s\":2,\"y\":3,\"l\":4,\"a\":5,\"p\":6,\"c\":7,\"m\":8},\n",
    "             \"gillattach\":{\"f\":0,\"a\":1},\n",
    "             \"gillspace\":{\"c\":0,\"w\":1},\n",
    "             \"gillsize\":{\"b\":0,\"n\":1},\n",
    "             \"gillcolor\":{\"b\":0,\"p\":1,\"w\":2,\"n\":3,\"g\":4,\"h\":5,\"u\":6,\"k\":7,\"e\":8,\"y\":9,\"o\":10,\"r\":11},\n",
    "             \"stalkshape\":{\"t\":0,\"e\":1},\n",
    "             \"stalkroot\":{\"b\":0,\"?\":1,\"e\":2,\"c\":3,\"r\":4},\n",
    "             \"stalksurfar\":{\"s\":0,\"k\":1,\"f\":2,\"y\":3},\n",
    "             \"stalksurfbr\":{\"s\":0,\"k\":1,\"f\":2,\"y\":3},\n",
    "             \"stalkcolorar\":{\"w\":0,\"p\":1,\"g\":2,\"n\":3,\"b\":4,\"o\":5,\"e\":6,\"c\":7,\"y\":8},\n",
    "             \"stalkcolorbr\":{\"w\":0,\"p\":1,\"g\":2,\"n\":3,\"b\":4,\"o\":5,\"e\":6,\"c\":7,\"y\":8},\n",
    "             \"veiltype\":{\"p\":0},\n",
    "             \"veilcolor\":{\"w\":0,\"o\":1,\"n\":2,\"y\":3},\n",
    "             \"ringnumber\":{\"o\":0,\"t\":1,\"n\":2},\n",
    "             \"ringtype\":{\"p\":0,\"e\":1,\"l\":2,\"f\":3,\"n\":4},\n",
    "             \"sporeprint\":{\"w\":0,\"n\":1,\"k\":2,\"h\":3,\"r\":4,\"u\":5,\"o\":6,\"b\":7,\"y\":8},\n",
    "             \"pop\":{\"v\":0,\"y\":1,\"s\":2,\"n\":3,\"a\":4,\"c\":5},\n",
    "             \"habitat\":{\"d\":0,\"g\":1,\"p\":2,\"l\":3,\"u\":4,\"m\":5,\"w\":6}}\n",
    "\n",
    "data.replace(newcategory,inplace=True)"
   ]
  },
  {
   "cell_type": "code",
   "execution_count": 32,
   "metadata": {},
   "outputs": [],
   "source": [
    "from sklearn.model_selection import train_test_split\n",
    "\n",
    "X_train, X_test, y_train, y_test = train_test_split(X, y, test_size=0.2, random_state=42)\n",
    "\n",
    "clf=tree.DecisionTreeClassifier()\n",
    "X=data[['capshape','capsurface','capcolor','bruises','odor','gillattach','gillspace','gillsize','gillcolor','stalkshape','stalksurfar','stalksurfbr','stalkcolorar','veiltype','veilcolor','ringnumber','ringtype','sporeprint','pop','habitat']]\n",
    "y=data['class']\n",
    "clf=clf.fit(X_train,y_train)"
   ]
  },
  {
   "cell_type": "code",
   "execution_count": 33,
   "metadata": {},
   "outputs": [
    {
     "name": "stdout",
     "output_type": "stream",
     "text": [
      "\n",
      "The actual output class is \n",
      " 1971    0\n",
      "6654    1\n",
      "5606    1\n",
      "3332    0\n",
      "6988    1\n",
      "Name: class, dtype: int64\n",
      "\n",
      "The output from decision tree [0 1 1 ... 1 1 1]\n"
     ]
    }
   ],
   "source": [
    "print(\"\\nThe actual output class is \\n\",y_test.head())\n",
    "X_test=np.array(X_test)\n",
    "prediction=np.array(clf.predict(X_test))\n",
    "print(\"\\nThe output from decision tree\",prediction)"
   ]
  },
  {
   "cell_type": "markdown",
   "metadata": {},
   "source": [
    "<h4>Defining a function which calculates accuracy</h4>"
   ]
  },
  {
   "cell_type": "code",
   "execution_count": 34,
   "metadata": {},
   "outputs": [],
   "source": [
    "def accuracy(a, b):\n",
    "    sum1=0\n",
    "    for i in range(0,len(a)):\n",
    "        if(a[i]==b[i]):\n",
    "            sum1+=1\n",
    "    \n",
    "    return sum1*100/len(a)"
   ]
  },
  {
   "cell_type": "markdown",
   "metadata": {},
   "source": [
    "<h4>Calculating accuracy</h4>"
   ]
  },
  {
   "cell_type": "code",
   "execution_count": 35,
   "metadata": {},
   "outputs": [
    {
     "name": "stdout",
     "output_type": "stream",
     "text": [
      "The test accuracy is\n"
     ]
    },
    {
     "data": {
      "text/plain": [
       "100.0"
      ]
     },
     "execution_count": 35,
     "metadata": {},
     "output_type": "execute_result"
    }
   ],
   "source": [
    "truth=[]\n",
    "predict=[]\n",
    "\n",
    "for i in prediction:\n",
    "    predict.append(i)\n",
    "    \n",
    "for i in y_test:\n",
    "    truth.append(i)\n",
    "    \n",
    "print(\"The test accuracy is\")\n",
    "accuracy(truth,predict)"
   ]
  },
  {
   "cell_type": "markdown",
   "metadata": {},
   "source": [
    "<p> As we can see the the test accuracy came out to be 100% which is perfect. The model perfectly predicted the class on all the test data</p>"
   ]
  }
 ],
 "metadata": {
  "kernelspec": {
   "display_name": "Python 3",
   "language": "python",
   "name": "python3"
  },
  "language_info": {
   "codemirror_mode": {
    "name": "ipython",
    "version": 3
   },
   "file_extension": ".py",
   "mimetype": "text/x-python",
   "name": "python",
   "nbconvert_exporter": "python",
   "pygments_lexer": "ipython3",
   "version": "3.6.5"
  }
 },
 "nbformat": 4,
 "nbformat_minor": 2
}
