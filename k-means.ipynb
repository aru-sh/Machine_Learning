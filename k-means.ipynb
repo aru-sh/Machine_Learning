{
 "cells": [
  {
   "cell_type": "markdown",
   "metadata": {},
   "source": [
    "<center><h1>Lab 5: k-Means Clustering, KNN</h1></center>\n",
    "<center><h3>Arush Sharma 16BCE1127</h3></center>"
   ]
  },
  {
   "cell_type": "markdown",
   "metadata": {},
   "source": [
    "<p> In this lab experiment, we have learn about k-Means Clustering.</p>\n",
    "<p> We are first make our own data using make_blobs function in sklearn.</p>\n",
    "<p> Then we will apply on Iris dataset.</p>\n",
    "<p> At the end, we will apply on the dataset which we have chosen</p>"
   ]
  },
  {
   "cell_type": "code",
   "execution_count": 1,
   "metadata": {},
   "outputs": [],
   "source": [
    "from sklearn.datasets import make_blobs\n",
    "import matplotlib.pyplot as plt\n",
    "import numpy as np"
   ]
  },
  {
   "cell_type": "code",
   "execution_count": 2,
   "metadata": {},
   "outputs": [],
   "source": [
    "X,y=make_blobs(n_samples=150,n_features=2,centers=3,cluster_std=0.5,shuffle=True,random_state=0)"
   ]
  },
  {
   "cell_type": "code",
   "execution_count": 3,
   "metadata": {},
   "outputs": [
    {
     "name": "stdout",
     "output_type": "stream",
     "text": [
      "[[ 2.60509732  1.22529553]\n",
      " [ 0.5323772   3.31338909]\n",
      " [ 0.802314    4.38196181]\n",
      " [ 0.5285368   4.49723858]\n",
      " [ 2.61858548  0.35769791]\n",
      " [ 1.59141542  4.90497725]\n",
      " [ 1.74265969  5.03846671]\n",
      " [ 2.37533328  0.08918564]\n",
      " [-2.12133364  2.66447408]\n",
      " [ 1.72039618  5.25173192]\n",
      " [ 3.1368855   1.56592763]\n",
      " [-0.37494566  2.38787435]\n",
      " [-1.84562253  2.71924635]\n",
      " [ 0.72144399  4.08475018]\n",
      " [ 0.16117091  4.53517846]\n",
      " [-1.99912714  2.71285741]\n",
      " [-1.47804153  3.2093591 ]\n",
      " [ 1.8706766   0.77797407]\n",
      " [-1.5933443   2.76898682]\n",
      " [ 2.03562611  0.31361691]\n",
      " [ 0.64003985  4.12401075]\n",
      " [ 2.4411628   1.30941574]\n",
      " [ 1.13280393  3.87673946]\n",
      " [ 1.04829186  5.03092408]\n",
      " [-1.26637157  2.62998828]\n",
      " [ 2.31690585  0.81189049]\n",
      " [ 2.36230721  1.358767  ]\n",
      " [ 1.2091013   3.53566548]\n",
      " [-2.54224625  3.95012869]\n",
      " [ 1.4815332   0.67875364]\n",
      " [-1.59487886  3.48632794]\n",
      " [-1.82556205  2.7989214 ]\n",
      " [-1.13374003  2.68467271]\n",
      " [-1.758702    3.158623  ]\n",
      " [ 0.3498724   4.69253251]\n",
      " [ 1.68548602  1.66917096]\n",
      " [ 2.989047    1.35068599]\n",
      " [ 1.73734448  1.23588031]\n",
      " [ 0.65910903  4.12241674]\n",
      " [ 1.15445328  4.65707391]\n",
      " [-1.32738084  1.53158588]\n",
      " [-1.6814105   2.07988036]\n",
      " [ 0.34102758  4.78848568]\n",
      " [ 1.87827057  0.21018801]\n",
      " [ 2.13860427  1.21517938]\n",
      " [ 2.48368283  0.57215086]\n",
      " [-1.18113464  3.26525683]\n",
      " [ 2.11114739  3.57660449]\n",
      " [-1.19371247  2.68752237]\n",
      " [ 1.45131429  4.22810872]\n",
      " [ 1.83769075  1.82229552]\n",
      " [ 0.44089377  4.83101319]\n",
      " [ 1.08040757  4.79210685]\n",
      " [ 1.84845803  0.52393625]\n",
      " [ 2.3914149   1.10139458]\n",
      " [-1.44865074  3.03397278]\n",
      " [ 0.72086751  3.71347124]\n",
      " [ 3.01673853  1.63792106]\n",
      " [-1.18199493  3.56880538]\n",
      " [ 1.34081536  4.36827878]\n",
      " [-2.31837321  3.22307195]\n",
      " [-0.54894786  3.11292892]\n",
      " [-1.6823471   2.96658234]\n",
      " [-1.53541422  3.10745813]\n",
      " [ 1.06498315  4.10289686]\n",
      " [-0.39724954  2.89675369]\n",
      " [ 1.03972612  4.50478201]\n",
      " [ 1.62465468  1.85269614]\n",
      " [-0.30022483  4.63059663]\n",
      " [ 0.12313498  5.27917503]\n",
      " [ 1.54597042  3.68637442]\n",
      " [ 1.44254976  1.31984515]\n",
      " [ 2.52889351  0.82015861]\n",
      " [ 0.38970838  5.27559792]\n",
      " [ 1.5381461   1.23846092]\n",
      " [ 0.82049381  4.33187   ]\n",
      " [ 1.56565986  4.21382491]\n",
      " [-1.93358614  2.1846701 ]\n",
      " [-1.38373217  3.22230418]\n",
      " [ 0.96217896  4.51795326]\n",
      " [ 1.71810119  0.91357894]\n",
      " [ 1.65356269  0.55288877]\n",
      " [ 0.4519936   3.59377836]\n",
      " [ 1.19820169  4.47062449]\n",
      " [ 2.20438661  1.56085661]\n",
      " [ 3.24683991  1.3699034 ]\n",
      " [ 2.51569693  1.05702749]\n",
      " [-1.79833475  3.12590728]\n",
      " [-2.0495307   3.52345491]\n",
      " [ 2.36788325  0.09663483]\n",
      " [ 2.24348029  0.34796326]\n",
      " [ 0.99914934  4.2101954 ]\n",
      " [ 1.30963873  1.11735951]\n",
      " [ 0.77468161  4.91500986]\n",
      " [ 1.70798359  0.82284639]\n",
      " [ 1.91784543  3.6299078 ]\n",
      " [-2.00487651  2.74489137]\n",
      " [-2.10499523  3.30848131]\n",
      " [ 1.39731382  0.66687136]\n",
      " [ 2.02114672  1.75433502]\n",
      " [ 1.67030948  1.16728826]\n",
      " [ 2.52997792  0.94143928]\n",
      " [-2.18016744  3.7469476 ]\n",
      " [ 2.00604126  0.56592452]\n",
      " [ 1.50307585  0.9237462 ]\n",
      " [ 1.05374379  4.49286859]\n",
      " [-1.72662853  3.10291021]\n",
      " [ 1.72330962  4.2012082 ]\n",
      " [ 0.92466065  4.50908658]\n",
      " [ 0.39369516  4.75420057]\n",
      " [-1.31377465  3.25633628]\n",
      " [ 0.78260667  4.15263595]\n",
      " [ 1.82750127  0.90640324]\n",
      " [-1.2649585   2.9620933 ]\n",
      " [ 0.98152009  5.19672257]\n",
      " [-2.49504392  3.01227156]\n",
      " [ 1.00952869  4.45502328]\n",
      " [ 1.40848818  3.93270482]\n",
      " [-1.28003312  2.85983029]\n",
      " [-1.82506103  2.89159861]\n",
      " [ 0.5408715   4.0143625 ]\n",
      " [ 2.64928242  1.05613497]\n",
      " [ 0.5226209   4.32976003]\n",
      " [ 0.16932115  4.19741719]\n",
      " [ 1.8062513   1.86242969]\n",
      " [ 1.92126584  1.29889186]\n",
      " [-1.53906708  2.54886681]\n",
      " [ 1.68289011  0.48444439]\n",
      " [-2.29730252  2.94951326]\n",
      " [-1.45592743  2.75821805]\n",
      " [-1.38694171  2.86880707]\n",
      " [-1.07181456  3.07649137]\n",
      " [ 1.40883907  1.03118909]\n",
      " [-1.58598604  2.57779316]\n",
      " [-1.58217434  3.42796862]\n",
      " [-0.77966174  1.88288975]\n",
      " [ 0.56969694  3.44064603]\n",
      " [-1.8531083   2.72240557]\n",
      " [ 1.59885641  1.4561718 ]\n",
      " [-1.84094779  2.6773687 ]\n",
      " [ 1.35678894  4.36462484]\n",
      " [ 1.1774409   3.96138228]\n",
      " [ 1.73345832 -0.21403792]\n",
      " [ 2.34356293  0.79351428]\n",
      " [-0.95073823  3.45769156]\n",
      " [-2.23893447  2.67122232]\n",
      " [-1.87292894  3.68607079]\n",
      " [-1.8897027   2.22620028]\n",
      " [ 2.25327088  0.35113291]\n",
      " [ 1.55515985  0.12527811]]\n"
     ]
    }
   ],
   "source": [
    "\n",
    "print(X)"
   ]
  },
  {
   "cell_type": "code",
   "execution_count": 140,
   "metadata": {},
   "outputs": [
    {
     "data": {
      "image/png": "[encoded data removed]",
      "text/plain": [
       "<Figure size 432x288 with 1 Axes>"
      ]
     },
     "metadata": {},
     "output_type": "display_data"
    }
   ],
   "source": [
    "plt.scatter(X[:,0],X[:,1], c='black', marker='o',s=50)\n",
    "plt.grid()\n",
    "plt.show()"
   ]
  },
  {
   "cell_type": "code",
   "execution_count": 6,
   "metadata": {},
   "outputs": [
    {
     "name": "stdout",
     "output_type": "stream",
     "text": [
      "(150, 2)\n"
     ]
    }
   ],
   "source": [
    "print(np.shape(X))"
   ]
  },
  {
   "cell_type": "code",
   "execution_count": 141,
   "metadata": {},
   "outputs": [],
   "source": [
    "from sklearn.cluster import KMeans"
   ]
  },
  {
   "cell_type": "code",
   "execution_count": 188,
   "metadata": {},
   "outputs": [],
   "source": [
    "km=KMeans(n_clusters=3,init='random',n_init=10,max_iter=300,tol=1e-04,random_state=0)"
   ]
  },
  {
   "cell_type": "code",
   "execution_count": 196,
   "metadata": {},
   "outputs": [
    {
     "name": "stdout",
     "output_type": "stream",
     "text": [
      "[1 0 0 0 1 0 0 1 2 0 1 2 2 0 0 2 2 1 2 1 0 1 0 0 2 1 1 0 2 1 2 2 2 2 0 1 1\n",
      " 1 0 0 2 2 0 1 1 1 2 0 2 0 1 0 0 1 1 2 0 1 2 0 2 2 2 2 0 2 0 1 0 0 0 1 1 0\n",
      " 1 0 0 2 2 0 1 1 0 0 1 1 1 2 2 1 1 0 1 0 1 0 2 2 1 1 1 1 2 1 1 0 2 0 0 0 2\n",
      " 0 1 2 0 2 0 0 2 2 0 1 0 0 1 1 2 1 2 2 2 2 1 2 2 2 0 2 1 2 0 0 1 1 2 2 2 2\n",
      " 1 1]\n"
     ]
    },
    {
     "ename": "TypeError",
     "evalue": "list indices must be integers or slices, not tuple",
     "output_type": "error",
     "traceback": [
      "\u001b[1;31m---------------------------------------------------------------------------\u001b[0m",
      "\u001b[1;31mTypeError\u001b[0m                                 Traceback (most recent call last)",
      "\u001b[1;32m<ipython-input-196-a3e6a23042ce>\u001b[0m in \u001b[0;36m<module>\u001b[1;34m()\u001b[0m\n\u001b[0;32m      2\u001b[0m \u001b[0mprint\u001b[0m\u001b[1;33m(\u001b[0m\u001b[0my_km\u001b[0m\u001b[1;33m)\u001b[0m\u001b[1;33m\u001b[0m\u001b[0m\n\u001b[0;32m      3\u001b[0m \u001b[1;33m\u001b[0m\u001b[0m\n\u001b[1;32m----> 4\u001b[1;33m \u001b[0mprint\u001b[0m\u001b[1;33m(\u001b[0m\u001b[0mx2\u001b[0m\u001b[1;33m[\u001b[0m\u001b[0my_km2\u001b[0m\u001b[1;33m==\u001b[0m\u001b[1;36m0\u001b[0m\u001b[1;33m,\u001b[0m\u001b[1;36m0\u001b[0m\u001b[1;33m]\u001b[0m\u001b[1;33m)\u001b[0m\u001b[1;33m\u001b[0m\u001b[0m\n\u001b[0m",
      "\u001b[1;31mTypeError\u001b[0m: list indices must be integers or slices, not tuple"
     ]
    }
   ],
   "source": [
    "y_km=km.fit_predict(X)\n",
    "print(y_km)\n",
    "\n",
    "#print(x2[y_km2==0,0])"
   ]
  },
  {
   "cell_type": "code",
   "execution_count": 144,
   "metadata": {},
   "outputs": [
    {
     "data": {
      "image/png": "[encoded data removed]",
      "text/plain": [
       "<Figure size 432x288 with 1 Axes>"
      ]
     },
     "metadata": {},
     "output_type": "display_data"
    }
   ],
   "source": [
    "plt.scatter(X[y_km==0,0],\n",
    "            X[y_km==0,1],\n",
    "            s=50,\n",
    "            c='lightgreen',\n",
    "            marker='s',\n",
    "            label='cluster 1')\n",
    "\n",
    "plt.scatter(X[y_km==1,0],\n",
    "            X[y_km==1,1],\n",
    "            s=50,\n",
    "            c='orange',\n",
    "            marker='o',\n",
    "            label='cluster 2')\n",
    "\n",
    "plt.scatter(X[y_km==2,0],\n",
    "            X[y_km==2,1],\n",
    "            s=50,\n",
    "            c='lightblue',\n",
    "            marker='v',\n",
    "            label='cluster 3')\n",
    "\n",
    "plt.scatter(km.cluster_centers_[:,0],\n",
    "            km.cluster_centers_[:,1],\n",
    "            s=250,\n",
    "            marker='*',\n",
    "            c='red',\n",
    "            label='centeroids')\n",
    "\n",
    "plt.legend()\n",
    "plt.grid()\n"
   ]
  },
  {
   "cell_type": "code",
   "execution_count": 145,
   "metadata": {},
   "outputs": [],
   "source": [
    "distortions=[]\n",
    "for i in range(1,11):\n",
    "    km=KMeans(n_clusters=i,\n",
    "              init='k-means++',\n",
    "              n_init=10,\n",
    "              max_iter=300,\n",
    "              random_state=0)\n",
    "    km.fit(X)\n",
    "    distortions.append(km.inertia_)"
   ]
  },
  {
   "cell_type": "code",
   "execution_count": 147,
   "metadata": {},
   "outputs": [
    {
     "data": {
      "text/plain": [
       "[<matplotlib.lines.Line2D at 0x198a1d430f0>]"
      ]
     },
     "execution_count": 147,
     "metadata": {},
     "output_type": "execute_result"
    },
    {
     "data": {
      "image/png": "[encoded data removed]",
      "text/plain": [
       "<Figure size 432x288 with 1 Axes>"
      ]
     },
     "metadata": {},
     "output_type": "display_data"
    }
   ],
   "source": [
    "plt.xlabel('Number of clusters')\n",
    "plt.ylabel('Distortion')\n",
    "plt.plot(range(1,11), distortions, marker='o')"
   ]
  },
  {
   "cell_type": "markdown",
   "metadata": {},
   "source": [
    "<h1>Now Implementing on Iris Dataset</h1>"
   ]
  },
  {
   "cell_type": "code",
   "execution_count": 152,
   "metadata": {},
   "outputs": [],
   "source": [
    "from sklearn import datasets\n",
    "import pandas as pd\n",
    "# import some data to play with\n",
    "iris = pd.read_csv(\"Iris.csv\")"
   ]
  },
  {
   "cell_type": "code",
   "execution_count": 153,
   "metadata": {},
   "outputs": [
    {
     "data": {
      "text/html": [
       "<div>\n",
       "<style scoped>\n",
       "    .dataframe tbody tr th:only-of-type {\n",
       "        vertical-align: middle;\n",
       "    }\n",
       "\n",
       "    .dataframe tbody tr th {\n",
       "        vertical-align: top;\n",
       "    }\n",
       "\n",
       "    .dataframe thead th {\n",
       "        text-align: right;\n",
       "    }\n",
       "</style>\n",
       "<table border=\"1\" class=\"dataframe\">\n",
       "  <thead>\n",
       "    <tr style=\"text-align: right;\">\n",
       "      <th></th>\n",
       "      <th>Id</th>\n",
       "      <th>SepalLengthCm</th>\n",
       "      <th>SepalWidthCm</th>\n",
       "      <th>PetalLengthCm</th>\n",
       "      <th>PetalWidthCm</th>\n",
       "    </tr>\n",
       "  </thead>\n",
       "  <tbody>\n",
       "    <tr>\n",
       "      <th>count</th>\n",
       "      <td>150.000000</td>\n",
       "      <td>150.000000</td>\n",
       "      <td>150.000000</td>\n",
       "      <td>150.000000</td>\n",
       "      <td>150.000000</td>\n",
       "    </tr>\n",
       "    <tr>\n",
       "      <th>mean</th>\n",
       "      <td>75.500000</td>\n",
       "      <td>5.843333</td>\n",
       "      <td>3.054000</td>\n",
       "      <td>3.758667</td>\n",
       "      <td>1.198667</td>\n",
       "    </tr>\n",
       "    <tr>\n",
       "      <th>std</th>\n",
       "      <td>43.445368</td>\n",
       "      <td>0.828066</td>\n",
       "      <td>0.433594</td>\n",
       "      <td>1.764420</td>\n",
       "      <td>0.763161</td>\n",
       "    </tr>\n",
       "    <tr>\n",
       "      <th>min</th>\n",
       "      <td>1.000000</td>\n",
       "      <td>4.300000</td>\n",
       "      <td>2.000000</td>\n",
       "      <td>1.000000</td>\n",
       "      <td>0.100000</td>\n",
       "    </tr>\n",
       "    <tr>\n",
       "      <th>25%</th>\n",
       "      <td>38.250000</td>\n",
       "      <td>5.100000</td>\n",
       "      <td>2.800000</td>\n",
       "      <td>1.600000</td>\n",
       "      <td>0.300000</td>\n",
       "    </tr>\n",
       "    <tr>\n",
       "      <th>50%</th>\n",
       "      <td>75.500000</td>\n",
       "      <td>5.800000</td>\n",
       "      <td>3.000000</td>\n",
       "      <td>4.350000</td>\n",
       "      <td>1.300000</td>\n",
       "    </tr>\n",
       "    <tr>\n",
       "      <th>75%</th>\n",
       "      <td>112.750000</td>\n",
       "      <td>6.400000</td>\n",
       "      <td>3.300000</td>\n",
       "      <td>5.100000</td>\n",
       "      <td>1.800000</td>\n",
       "    </tr>\n",
       "    <tr>\n",
       "      <th>max</th>\n",
       "      <td>150.000000</td>\n",
       "      <td>7.900000</td>\n",
       "      <td>4.400000</td>\n",
       "      <td>6.900000</td>\n",
       "      <td>2.500000</td>\n",
       "    </tr>\n",
       "  </tbody>\n",
       "</table>\n",
       "</div>"
      ],
      "text/plain": [
       "               Id  SepalLengthCm  SepalWidthCm  PetalLengthCm  PetalWidthCm\n",
       "count  150.000000     150.000000    150.000000     150.000000    150.000000\n",
       "mean    75.500000       5.843333      3.054000       3.758667      1.198667\n",
       "std     43.445368       0.828066      0.433594       1.764420      0.763161\n",
       "min      1.000000       4.300000      2.000000       1.000000      0.100000\n",
       "25%     38.250000       5.100000      2.800000       1.600000      0.300000\n",
       "50%     75.500000       5.800000      3.000000       4.350000      1.300000\n",
       "75%    112.750000       6.400000      3.300000       5.100000      1.800000\n",
       "max    150.000000       7.900000      4.400000       6.900000      2.500000"
      ]
     },
     "execution_count": 153,
     "metadata": {},
     "output_type": "execute_result"
    }
   ],
   "source": [
    "iris.describe()"
   ]
  },
  {
   "cell_type": "code",
   "execution_count": 211,
   "metadata": {},
   "outputs": [],
   "source": [
    "km2=KMeans(n_clusters=3,init='random',n_init=10,max_iter=3000,tol=1e-04,random_state=0)"
   ]
  },
  {
   "cell_type": "code",
   "execution_count": 212,
   "metadata": {},
   "outputs": [
    {
     "data": {
      "text/plain": [
       "['Id',\n",
       " 'SepalLengthCm',\n",
       " 'SepalWidthCm',\n",
       " 'PetalLengthCm',\n",
       " 'PetalWidthCm',\n",
       " 'Species']"
      ]
     },
     "execution_count": 212,
     "metadata": {},
     "output_type": "execute_result"
    }
   ],
   "source": [
    "#y_km=km.fit_predict(X)\n",
    "list(iris)"
   ]
  },
  {
   "cell_type": "code",
   "execution_count": 213,
   "metadata": {},
   "outputs": [
    {
     "data": {
      "text/plain": [
       "<matplotlib.collections.PathCollection at 0x198a216bfd0>"
      ]
     },
     "execution_count": 213,
     "metadata": {},
     "output_type": "execute_result"
    },
    {
     "data": {
      "image/png": "[encoded data removed]",
      "text/plain": [
       "<Figure size 432x288 with 1 Axes>"
      ]
     },
     "metadata": {},
     "output_type": "display_data"
    }
   ],
   "source": [
    "plt.scatter(iris['Id'],iris['PetalWidthCm'],s=3)"
   ]
  },
  {
   "cell_type": "code",
   "execution_count": 214,
   "metadata": {},
   "outputs": [],
   "source": [
    "X2=[iris['PetalWidthCm'],iris['Id']]"
   ]
  },
  {
   "cell_type": "code",
   "execution_count": 215,
   "metadata": {},
   "outputs": [],
   "source": [
    "x2=[]\n",
    "for i in range(0, len(iris['PetalWidthCm'])):\n",
    "    x2.append([X2[1][i],X2[0][i]])\n",
    "\n",
    "x2=np.array(x2)"
   ]
  },
  {
   "cell_type": "code",
   "execution_count": 216,
   "metadata": {},
   "outputs": [
    {
     "name": "stdout",
     "output_type": "stream",
     "text": [
      "[2 2 2 2 2 2 2 2 2 2 2 2 2 2 2 2 2 2 2 2 2 2 2 2 2 2 2 2 2 2 2 2 2 2 2 2 2\n",
      " 2 2 2 2 2 2 2 2 2 2 2 2 1 1 1 1 1 1 1 1 1 1 1 1 1 1 1 1 1 1 1 1 1 1 1 1 1\n",
      " 1 1 1 1 1 1 1 1 1 1 1 1 1 1 1 1 1 1 1 1 1 1 1 1 1 0 0 0 0 0 0 0 0 0 0 0 0\n",
      " 0 0 0 0 0 0 0 0 0 0 0 0 0 0 0 0 0 0 0 0 0 0 0 0 0 0 0 0 0 0 0 0 0 0 0 0 0\n",
      " 0 0]\n"
     ]
    }
   ],
   "source": [
    "y_km2=km2.fit_predict(x2)\n",
    "y_km2=np.array(y_km2)\n",
    "print(y_km2)"
   ]
  },
  {
   "cell_type": "code",
   "execution_count": 217,
   "metadata": {},
   "outputs": [
    {
     "data": {
      "image/png": "[encoded data removed]",
      "text/plain": [
       "<Figure size 432x288 with 1 Axes>"
      ]
     },
     "metadata": {},
     "output_type": "display_data"
    }
   ],
   "source": [
    "plt.scatter(x2[y_km2==0,0],\n",
    "            x2[y_km2==0,1],\n",
    "            s=50,\n",
    "            c='lightgreen',\n",
    "            marker='s',\n",
    "            label='cluster 1')\n",
    "\n",
    "plt.scatter(x2[y_km2==1,0],\n",
    "            x2[y_km2==1,1],\n",
    "            s=50,\n",
    "            c='orange',\n",
    "            marker='o',\n",
    "            label='cluster 2')\n",
    "\n",
    "plt.scatter(x2[y_km2==2,0],\n",
    "            x2[y_km2==2,1],\n",
    "            s=50,\n",
    "            c='lightblue',\n",
    "            marker='v',\n",
    "            label='cluster 3')\n",
    "\n",
    "plt.scatter(km2.cluster_centers_[:,0],\n",
    "            km2.cluster_centers_[:,1],\n",
    "            s=250,\n",
    "            marker='*',\n",
    "            c='red',\n",
    "            label='centeroids')\n",
    "\n",
    "plt.legend()\n",
    "plt.grid()"
   ]
  },
  {
   "cell_type": "code",
   "execution_count": 218,
   "metadata": {},
   "outputs": [],
   "source": [
    "distortions=[]\n",
    "for i in range(1,11):\n",
    "    km2=KMeans(n_clusters=i,\n",
    "              init='k-means++',\n",
    "              n_init=10,\n",
    "              max_iter=300,\n",
    "              random_state=0)\n",
    "    km2.fit(x2)\n",
    "    distortions.append(km2.inertia_)"
   ]
  },
  {
   "cell_type": "code",
   "execution_count": 219,
   "metadata": {},
   "outputs": [
    {
     "data": {
      "text/plain": [
       "[<matplotlib.lines.Line2D at 0x198a320dac8>]"
      ]
     },
     "execution_count": 219,
     "metadata": {},
     "output_type": "execute_result"
    },
    {
     "data": {
      "image/png": "[encoded data removed]",
      "text/plain": [
       "<Figure size 432x288 with 1 Axes>"
      ]
     },
     "metadata": {},
     "output_type": "display_data"
    }
   ],
   "source": [
    "plt.xlabel('Number of clusters')\n",
    "plt.ylabel('Distortion')\n",
    "plt.plot(range(1,11), distortions, marker='o')"
   ]
  },
  {
   "cell_type": "markdown",
   "metadata": {},
   "source": [
    "<h2>KNN Algorithm</h2>"
   ]
  },
  {
   "cell_type": "markdown",
   "metadata": {},
   "source": [
    "<p>The KNN algorithm itself is fairly straightforward and can be summarized by the following steps:</p>\n",
    "<p>1.Choose the number of k and a distance metric.</p>\n",
    "<p>2.Find the k nearest neighbors of the sample that we want to classify.</p>\n",
    "<p>3.Assign the class label by majority vote.</p>"
   ]
  },
  {
   "cell_type": "code",
   "execution_count": 13,
   "metadata": {},
   "outputs": [
    {
     "name": "stdout",
     "output_type": "stream",
     "text": [
      "Class labels:  [0 1 2]\n"
     ]
    }
   ],
   "source": [
    "from sklearn import datasets\n",
    "import numpy as np\n",
    "import numpy as np\n",
    "\n",
    "iris=datasets.load_iris()\n",
    "X=iris.data[:,[2,3]]\n",
    "y=iris.target\n",
    "\n",
    "print('Class labels: ', np.unique(y))"
   ]
  },
  {
   "cell_type": "code",
   "execution_count": 10,
   "metadata": {},
   "outputs": [],
   "source": [
    "from sklearn.model_selection import train_test_split"
   ]
  },
  {
   "cell_type": "code",
   "execution_count": 14,
   "metadata": {},
   "outputs": [],
   "source": [
    "X_train, X_test, y_train, y_test=train_test_split(X,y,test_size=0.3, random_state=9)"
   ]
  },
  {
   "cell_type": "code",
   "execution_count": 37,
   "metadata": {},
   "outputs": [],
   "source": [
    "from sklearn.preprocessing import StandardScaler\n",
    "\n",
    "sc=StandardScaler()\n",
    "sc.fit(X_train)\n",
    "X_train_std=sc.transform(X_train)\n",
    "X_test_std=sc.transform(X_test)"
   ]
  },
  {
   "cell_type": "code",
   "execution_count": 18,
   "metadata": {},
   "outputs": [],
   "source": [
    "from matplotlib.colors import ListedColormap\n",
    "import matplotlib.pyplot as plt\n",
    "import warnings"
   ]
  },
  {
   "cell_type": "code",
   "execution_count": 33,
   "metadata": {},
   "outputs": [],
   "source": [
    "def versiontuple(v):\n",
    "    return tuple(map(int, (v.split(\".\"))))\n",
    "\n",
    "def plot_decision_regions(X,y, classifier, test_idx=None, resolution=0.02):\n",
    "    markers=('s','x', 'o','^','v')\n",
    "    colors=('red','blue','lightgreen','gray','cyan')\n",
    "    cmap=ListedColormap(colors[:len(np.unique(y))])\n",
    "    \n",
    "    #plot the decision surface\n",
    "    \n",
    "    x1_min, x1_max=X[:,0].min()-1, X[:,0].max()+1\n",
    "    x2_min, x2_max=X[:,1].min()-1, X[:,1].max()+1\n",
    "    \n",
    "    xx1, xx2=np.meshgrid(np.arange(x1_min, x1_max, resolution), \n",
    "                         np.arange(x2_min, x2_max, resolution))\n",
    "    \n",
    "    Z=classifier.predict(np.array([xx1.ravel(), xx2.ravel()]).T)\n",
    "    Z=Z.reshape(xx1.shape)\n",
    "    plt.contourf(xx1,xx2, Z, alpha=0.4, cmap=cmap)\n",
    "    plt.xlim(xx1.min(), xx1.max())\n",
    "    plt.ylim(xx2.min(),xx2.max())\n",
    "    \n",
    "    for idx, cl in enumerate(np.unique(y)):\n",
    "        plt.scatter(x=X[y==cl, 0],\n",
    "                   y=X[y==cl, 1],\n",
    "                   alpha=0.6,\n",
    "                   c=cmap(idx), edgecolor='black',\n",
    "                   marker=markers[idx],\n",
    "                   label='cl')\n",
    "        \n",
    "    \n",
    "    #highlight test samples\n",
    "    if test_idx:\n",
    "        #plot all samples\n",
    "        X_test, y_test=X[test_idx, :], y[test_idx]\n",
    "        \n",
    "    plt.scatter(X_test[:,0],\n",
    "               X_test[:,1],\n",
    "               c='',\n",
    "               alpha=1.0,\n",
    "               edgecolor='black',\n",
    "               linewidths=1,\n",
    "               marker='o', s=55,\n",
    "               label='test set')"
   ]
  },
  {
   "cell_type": "code",
   "execution_count": 39,
   "metadata": {},
   "outputs": [
    {
     "data": {
      "image/png": "[encoded data removed]",
      "text/plain": [
       "<Figure size 432x288 with 1 Axes>"
      ]
     },
     "metadata": {},
     "output_type": "display_data"
    }
   ],
   "source": [
    "from sklearn.neighbors import KNeighborsClassifier as KNN\n",
    "X_combined_std=np.vstack((X_train_std, X_test_std))\n",
    "y_combined=np.hstack((y_train, y_test))\n",
    "knn=KNN(n_neighbors=5, p=2, metric='minkowski')\n",
    "knn.fit(X_train_std, y_train)\n",
    "\n",
    "plot_decision_regions(X_combined_std, y_combined, classifier=knn, \n",
    "                      test_idx=range(105, 150))\n",
    "\n",
    "plt.xlabel('petal length [standardized]')\n",
    "plt.ylabel('petal widht (standardized)')\n",
    "plt.legend(loc='upper left')\n",
    "plt.tight_layout()\n",
    "plt.show()\n"
   ]
  },
  {
   "cell_type": "markdown",
   "metadata": {},
   "source": [
    "<h4> As we can see that KNN has successfuly classified the test data into different categories</h4>"
   ]
  },
  {
   "cell_type": "code",
   "execution_count": null,
   "metadata": {},
   "outputs": [],
   "source": []
  }
 ],
 "metadata": {
  "kernelspec": {
   "display_name": "Python 3",
   "language": "python",
   "name": "python3"
  },
  "language_info": {
   "codemirror_mode": {
    "name": "ipython",
    "version": 3
   },
   "file_extension": ".py",
   "mimetype": "text/x-python",
   "name": "python",
   "nbconvert_exporter": "python",
   "pygments_lexer": "ipython3",
   "version": "3.6.5"
  }
 },
 "nbformat": 4,
 "nbformat_minor": 2
}
