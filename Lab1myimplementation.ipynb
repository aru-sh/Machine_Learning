{
 "cells": [
  {
   "cell_type": "markdown",
   "metadata": {},
   "source": [
    "<center><h1>Implementation on different dataset</h1></center>\n",
    "<center><h3>Arush Sharma 16BCE1127</h3></center>"
   ]
  },
  {
   "cell_type": "markdown",
   "metadata": {},
   "source": [
    "<p>For this lab implementation, I will be implementing on Mushroom dataset which is available on UCI Machine Learning Repository. It consist of various characteristics of mushrooms and based on that characteristics, the mushoom is poisnous or not</p>"
   ]
  },
  {
   "cell_type": "code",
   "execution_count": 256,
   "metadata": {},
   "outputs": [],
   "source": [
    "import pandas as pd\n",
    "from sklearn import tree\n",
    "import numpy as np"
   ]
  },
  {
   "cell_type": "code",
   "execution_count": 257,
   "metadata": {},
   "outputs": [],
   "source": [
    "data=pd.read_csv(\"mushroom.csv\")"
   ]
  },
  {
   "cell_type": "code",
   "execution_count": 258,
   "metadata": {
    "scrolled": false
   },
   "outputs": [
    {
     "data": {
      "text/plain": [
       "['class',\n",
       " 'capshape',\n",
       " 'capsurface',\n",
       " 'capcolor',\n",
       " 'bruises',\n",
       " 'odor',\n",
       " 'gillattach',\n",
       " 'gillspace',\n",
       " 'gillsize',\n",
       " 'gillcolor',\n",
       " 'stalkshape',\n",
       " 'stalkroot',\n",
       " 'stalksurfar',\n",
       " 'stalksurfbr',\n",
       " 'stalkcolorar',\n",
       " 'stalkcolorbr',\n",
       " 'veiltype',\n",
       " 'veilcolor',\n",
       " 'ringnumber',\n",
       " 'ringtype',\n",
       " 'sporeprint',\n",
       " 'pop',\n",
       " 'habitat']"
      ]
     },
     "execution_count": 258,
     "metadata": {},
     "output_type": "execute_result"
    }
   ],
   "source": [
    "list(data)"
   ]
  },
  {
   "cell_type": "code",
   "execution_count": 259,
   "metadata": {},
   "outputs": [
    {
     "name": "stdout",
     "output_type": "stream",
     "text": [
      "w    2388\n",
      "n    1968\n",
      "k    1872\n",
      "h    1632\n",
      "r      72\n",
      "u      48\n",
      "o      48\n",
      "b      48\n",
      "y      48\n",
      "Name: sporeprint, dtype: int64\n"
     ]
    }
   ],
   "source": [
    "print(data['sporeprint'].value_counts())"
   ]
  },
  {
   "cell_type": "markdown",
   "metadata": {},
   "source": [
    "<h4>Replacing the string value with integers so the function works correctly</h4>"
   ]
  },
  {
   "cell_type": "code",
   "execution_count": 148,
   "metadata": {},
   "outputs": [],
   "source": [
    "newcategory={\"class\":{\"e\":0,\"p\":1},\n",
    "             \"capshape\":{\"x\":0,\"f\":1,\"k\":2,\"b\":3,\"s\":4,\"c\":5},\n",
    "             \"capsurface\":{\"y\":0,\"s\":1,\"f\":2,\"g\":3},\n",
    "             \"capcolor\":{\"n\":0,\"g\":1,\"e\":2,\"y\":3,\"w\":4,\"b\":5,\"p\":6,\"c\":7,\"u\":8,\"r\":9},\n",
    "             \"bruises\":{\"f\":0,\"t\":1},\n",
    "             \"odor\":{\"n\":0,\"f\":1,\"s\":2,\"y\":3,\"l\":4,\"a\":5,\"p\":6,\"c\":7,\"m\":8},\n",
    "             \"gillattach\":{\"f\":0,\"a\":1},\n",
    "             \"gillspace\":{\"c\":0,\"w\":1},\n",
    "             \"gillsize\":{\"b\":0,\"n\":1},\n",
    "             \"gillcolor\":{\"b\":0,\"p\":1,\"w\":2,\"n\":3,\"g\":4,\"h\":5,\"u\":6,\"k\":7,\"e\":8,\"y\":9,\"o\":10,\"r\":11},\n",
    "             \"stalkshape\":{\"t\":0,\"e\":1},\n",
    "             \"stalkroot\":{\"b\":0,\"?\":1,\"e\":2,\"c\":3,\"r\":4},\n",
    "             \"stalksurfar\":{\"s\":0,\"k\":1,\"f\":2,\"y\":3},\n",
    "             \"stalksurfbr\":{\"s\":0,\"k\":1,\"f\":2,\"y\":3},\n",
    "             \"stalkcolorar\":{\"w\":0,\"p\":1,\"g\":2,\"n\":3,\"b\":4,\"o\":5,\"e\":6,\"c\":7,\"y\":8},\n",
    "             \"stalkcolorbr\":{\"w\":0,\"p\":1,\"g\":2,\"n\":3,\"b\":4,\"o\":5,\"e\":6,\"c\":7,\"y\":8},\n",
    "             \"veiltype\":{\"p\":0},\n",
    "             \"veilcolor\":{\"w\":0,\"o\":1,\"n\":2,\"y\":3},\n",
    "             \"ringnumber\":{\"o\":0,\"t\":1,\"n\":2},\n",
    "             \"ringtype\":{\"p\":0,\"e\":1,\"l\":2,\"f\":3,\"n\":4},\n",
    "             \"sporeprint\":{\"w\":0,\"n\":1,\"k\":2,\"h\":3,\"r\":4,\"u\":5,\"o\":6,\"b\":7,\"y\":8},\n",
    "             \"pop\":{\"v\":0,\"y\":1,\"s\":2,\"n\":3,\"a\":4,\"c\":5},\n",
    "             \"habitat\":{\"d\":0,\"g\":1,\"p\":2,\"l\":3,\"u\":4,\"m\":5,\"w\":6}}\n",
    "\n",
    "data.replace(newcategory,inplace=True)\n",
    "             "
   ]
  },
  {
   "cell_type": "code",
   "execution_count": 262,
   "metadata": {},
   "outputs": [],
   "source": [
    "from sklearn.model_selection import train_test_split\n",
    "\n",
    "X_train, X_test, y_train, y_test = train_test_split(X, y, test_size=0.2, random_state=42)\n",
    "\n",
    "clf=tree.DecisionTreeClassifier()\n",
    "X=data[['capshape','capsurface','capcolor','bruises','odor','gillattach','gillspace','gillsize','gillcolor','stalkshape','stalksurfar','stalksurfbr','stalkcolorar','veiltype','veilcolor','ringnumber','ringtype','sporeprint','pop','habitat']]\n",
    "y=data['class']\n",
    "clf=clf.fit(X_train,y_train)"
   ]
  },
  {
   "cell_type": "code",
   "execution_count": 263,
   "metadata": {
    "scrolled": true
   },
   "outputs": [
    {
     "name": "stdout",
     "output_type": "stream",
     "text": [
      "\n",
      "The actual output class is \n",
      " 1971    0\n",
      "6654    1\n",
      "5606    1\n",
      "3332    0\n",
      "6988    1\n",
      "Name: class, dtype: int64\n",
      "\n",
      "The output from decision tree [0 1 1 ... 1 1 1]\n"
     ]
    }
   ],
   "source": [
    "print(\"\\nThe actual output class is \\n\",y_test.head())\n",
    "X_test=np.array(X_test)\n",
    "prediction=np.array(clf.predict(X_test))\n",
    "print(\"\\nThe output from decision tree\",prediction)"
   ]
  },
  {
   "cell_type": "code",
   "execution_count": 264,
   "metadata": {},
   "outputs": [],
   "source": [
    "def accuracy(a, b):\n",
    "    sum1=0\n",
    "    for i in range(0,len(a)):\n",
    "        if(a[i]==b[i]):\n",
    "            sum1+=1\n",
    "    \n",
    "    return sum1*100/len(a)\n"
   ]
  },
  {
   "cell_type": "code",
   "execution_count": 265,
   "metadata": {},
   "outputs": [
    {
     "name": "stdout",
     "output_type": "stream",
     "text": [
      "The test accuracy is\n"
     ]
    },
    {
     "data": {
      "text/plain": [
       "100.0"
      ]
     },
     "execution_count": 265,
     "metadata": {},
     "output_type": "execute_result"
    }
   ],
   "source": [
    "truth=[]\n",
    "predict=[]\n",
    "\n",
    "for i in prediction:\n",
    "    predict.append(i)\n",
    "    \n",
    "for i in y_test:\n",
    "    truth.append(i)\n",
    "    \n",
    "print(\"The test accuracy is\")\n",
    "accuracy(truth,predict)\n"
   ]
  },
  {
   "cell_type": "markdown",
   "metadata": {},
   "source": [
    "<p> As we can see the the test accuracy came out to be 100% which is perfect</p>"
   ]
  }
 ],
 "metadata": {
  "kernelspec": {
   "display_name": "Python 3",
   "language": "python",
   "name": "python3"
  },
  "language_info": {
   "codemirror_mode": {
    "name": "ipython",
    "version": 3
   },
   "file_extension": ".py",
   "mimetype": "text/x-python",
   "name": "python",
   "nbconvert_exporter": "python",
   "pygments_lexer": "ipython3",
   "version": "3.6.5"
  }
 },
 "nbformat": 4,
 "nbformat_minor": 2
}
