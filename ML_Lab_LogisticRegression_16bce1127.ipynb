{
 "cells": [
  {
   "cell_type": "markdown",
   "metadata": {},
   "source": [
    "<center><h1>ML Lab: Logistic Regression</h1></center>\n",
    "<center><h2>Arush Sharma 16bce1127</h2></center>"
   ]
  },
  {
   "cell_type": "markdown",
   "metadata": {},
   "source": [
    "<p>In this lab experiment, I am going to applying Logistic Regression firstly on seeds dataset. I will be applying various types of solvers and compare their performances. Then I will be applying it on the chosen dataset</p>"
   ]
  },
  {
   "cell_type": "markdown",
   "metadata": {},
   "source": [
    "<h4>Importing Libraries</h4>"
   ]
  },
  {
   "cell_type": "code",
   "execution_count": 163,
   "metadata": {},
   "outputs": [],
   "source": [
    "import pandas as pd\n",
    "import numpy as np\n",
    "import matplotlib.pyplot as plt"
   ]
  },
  {
   "cell_type": "markdown",
   "metadata": {},
   "source": [
    "<h4>Loading the dataset</h4>"
   ]
  },
  {
   "cell_type": "code",
   "execution_count": 164,
   "metadata": {},
   "outputs": [
    {
     "name": "stdout",
     "output_type": "stream",
     "text": [
      "['area', 'perimeter', 'compactness', 'length', 'width', 'asymmetry', 'kgroove', 'class']\n"
     ]
    }
   ],
   "source": [
    "data=pd.read_csv(\"seeds.csv\")\n",
    "print(list(data))"
   ]
  },
  {
   "cell_type": "markdown",
   "metadata": {},
   "source": [
    "<h4>Choosing the value of X and y</h4>"
   ]
  },
  {
   "cell_type": "code",
   "execution_count": 165,
   "metadata": {},
   "outputs": [],
   "source": [
    "from sklearn.linear_model import LogisticRegression\n",
    "X=data[['area','perimeter','compactness','length','width','asymmetry','kgroove']]\n",
    "y=data['class']"
   ]
  },
  {
   "cell_type": "code",
   "execution_count": 166,
   "metadata": {},
   "outputs": [],
   "source": [
    "from sklearn.preprocessing import StandardScaler"
   ]
  },
  {
   "cell_type": "markdown",
   "metadata": {},
   "source": [
    "<h4>Splitting the data into 80:20 Train:Test Split</h4>"
   ]
  },
  {
   "cell_type": "code",
   "execution_count": 167,
   "metadata": {},
   "outputs": [],
   "source": [
    "from sklearn.model_selection import train_test_split\n",
    "X_train, X_test, y_train, y_test =train_test_split(X, y, test_size=0.2, random_state=1)"
   ]
  },
  {
   "cell_type": "markdown",
   "metadata": {},
   "source": [
    "<h4>In this experiment, I have compared the performance of various solvers included in sklearn logistic regression.<br/> I will be comparing lbfgs, newton-cg, liblinear solver based on their performace on seeds dataset</h4> "
   ]
  },
  {
   "cell_type": "code",
   "execution_count": 168,
   "metadata": {},
   "outputs": [
    {
     "name": "stdout",
     "output_type": "stream",
     "text": [
      "In case of lbfgs\n",
      "The confusion matrix is\n",
      "[[20  0  0]\n",
      " [ 0  9  0]\n",
      " [ 0  0 13]]\n",
      "\n",
      "The accuracy is\n",
      "1.0\n"
     ]
    }
   ],
   "source": [
    "clf = LogisticRegression(random_state=0, solver='lbfgs', multi_class='multinomial').fit(X_train, y_train)\n",
    "y_pred=clf.predict(X_test)\n",
    "from sklearn.metrics import accuracy_score\n",
    "from sklearn.metrics import confusion_matrix\n",
    "print(\"In case of lbfgs\")\n",
    "print(\"The confusion matrix is\")\n",
    "print(confusion_matrix(y_test, y_pred))\n",
    "print(\"\\nThe accuracy is\")\n",
    "print(accuracy_score(y_test, y_pred))"
   ]
  },
  {
   "cell_type": "code",
   "execution_count": 169,
   "metadata": {},
   "outputs": [
    {
     "name": "stdout",
     "output_type": "stream",
     "text": [
      "In case of newton-cg\n",
      "The confusion matrix is\n",
      "[[19  1  0]\n",
      " [ 0  9  0]\n",
      " [ 0  0 13]]\n",
      "\n",
      "The accuracy is\n",
      "0.9761904761904762\n"
     ]
    }
   ],
   "source": [
    "clf = LogisticRegression(random_state=0, solver='newton-cg', multi_class='multinomial').fit(X_train, y_train)\n",
    "y_pred = clf.predict(X_test)\n",
    "print(\"In case of newton-cg\")\n",
    "print(\"The confusion matrix is\")\n",
    "print(confusion_matrix(y_test, y_pred))\n",
    "print(\"\\nThe accuracy is\")\n",
    "print(accuracy_score(y_test, y_pred))\n"
   ]
  },
  {
   "cell_type": "code",
   "execution_count": 170,
   "metadata": {},
   "outputs": [
    {
     "name": "stdout",
     "output_type": "stream",
     "text": [
      "In case of liblinear\n",
      "The confusion matrix is\n",
      "[[19  1  0]\n",
      " [ 0  9  0]\n",
      " [ 0  0 13]]\n",
      "\n",
      "The accuracy is\n",
      "0.9761904761904762\n"
     ]
    }
   ],
   "source": [
    "clf = LogisticRegression(random_state=0, solver='liblinear').fit(X_train, y_train)\n",
    "y_pred = clf.predict(X_test)\n",
    "print(\"In case of liblinear\")\n",
    "print(\"The confusion matrix is\")\n",
    "print(confusion_matrix(y_test, y_pred))\n",
    "print(\"\\nThe accuracy is\")\n",
    "print(accuracy_score(y_test, y_pred))"
   ]
  },
  {
   "cell_type": "markdown",
   "metadata": {},
   "source": [
    "<h4>We see that lbfgs solver is best among the tested solvers, liblinear and newton-cg performs similarly</h4>"
   ]
  },
  {
   "cell_type": "markdown",
   "metadata": {},
   "source": [
    "<center><h2>Part II: Implementation on my dataset</h2></center>"
   ]
  },
  {
   "cell_type": "markdown",
   "metadata": {},
   "source": [
    "<h4> I will be working on the dataset which I have chosen for lab, i.e. Melbourne Housing Dataset</h4>"
   ]
  },
  {
   "cell_type": "code",
   "execution_count": 171,
   "metadata": {},
   "outputs": [],
   "source": [
    "housing_data=pd.read_csv(\"Preprocessed_datasets\\\\Housing-data.csv\")"
   ]
  },
  {
   "cell_type": "markdown",
   "metadata": {},
   "source": [
    "<h4>Making the regionname to be either 0 or 1 to make two linearly seperable classes</h4>"
   ]
  },
  {
   "cell_type": "code",
   "execution_count": 172,
   "metadata": {},
   "outputs": [],
   "source": [
    "X=housing_data['Postcode']\n",
    "y=housing_data['Regionname'].copy()\n",
    "\n",
    "from sklearn.linear_model import Perceptron\n",
    "\n",
    "for i in range(len(y)):\n",
    "    if(y[i]=='Eastern Metropolitan'):\n",
    "        y[i]='0'\n",
    "    elif(y[i]=='Eastern Victoria'):\n",
    "        y[i]='0'\n",
    "    elif(y[i]=='Northern Metropolitan'):\n",
    "        y[i]='0'\n",
    "    elif(y[i]=='Northern Victoria'):\n",
    "        y[i]='0'\n",
    "    elif(y[i]=='South-Eastern Metropolitan'):\n",
    "        y[i]='1'\n",
    "    elif(y[i]=='Southern Metropolitan'):\n",
    "        y[i]='1'\n",
    "    elif(y[i]=='Western Metropolitan'):\n",
    "        y[i]='1'\n",
    "    elif(y[i]=='Western Victoria'):\n",
    "        y[i]='1'\n",
    "\n",
    "ppn2 = Perceptron(max_iter=40, eta0=0.01, random_state=0)\n",
    " "
   ]
  },
  {
   "cell_type": "markdown",
   "metadata": {},
   "source": [
    "<h4>Fitting the Logistic Regression on chosen dataset</h4>"
   ]
  },
  {
   "cell_type": "code",
   "execution_count": 173,
   "metadata": {},
   "outputs": [
    {
     "name": "stdout",
     "output_type": "stream",
     "text": [
      "(17659,)\n"
     ]
    },
    {
     "data": {
      "text/plain": [
       "LogisticRegression(C=1.0, class_weight=None, dual=False, fit_intercept=True,\n",
       "          intercept_scaling=1, max_iter=100, multi_class='ovr', n_jobs=1,\n",
       "          penalty='l2', random_state=0, solver='liblinear', tol=0.0001,\n",
       "          verbose=0, warm_start=False)"
      ]
     },
     "execution_count": 173,
     "metadata": {},
     "output_type": "execute_result"
    }
   ],
   "source": [
    "x=[]\n",
    "print(np.shape(y))\n",
    "for i in range(len(y)):\n",
    "    x.append([int(X[i]),int(y[i])])\n",
    "x=np.array(x)\n",
    "clf.fit(x, y)"
   ]
  },
  {
   "cell_type": "markdown",
   "metadata": {},
   "source": [
    "<h4> Visualizing the decision boundary</h4>"
   ]
  },
  {
   "cell_type": "code",
   "execution_count": 174,
   "metadata": {},
   "outputs": [],
   "source": [
    "import numpy as np\n",
    "from matplotlib.colors import ListedColormap\n",
    "x1_min, x1_max = x[:, 0].min() - 1, x[:, 0].max() + 1\n",
    "x2_min, x2_max = x[:, 1].min() - 1, x[:, 1].max() + 1"
   ]
  },
  {
   "cell_type": "code",
   "execution_count": 175,
   "metadata": {},
   "outputs": [],
   "source": [
    "xx1, xx2 = np.meshgrid(np.arange(x1_min, x1_max, 0.02), np.arange(x2_min, x2_max, 0.02))"
   ]
  },
  {
   "cell_type": "code",
   "execution_count": 177,
   "metadata": {},
   "outputs": [],
   "source": [
    "Z = clf.predict(np.array([xx1.ravel(), xx2.ravel()]).T)\n",
    "Z = Z.reshape(xx1.shape)"
   ]
  },
  {
   "cell_type": "code",
   "execution_count": 178,
   "metadata": {},
   "outputs": [
    {
     "data": {
      "text/plain": [
       "<matplotlib.legend.Legend at 0x1dd20af7a58>"
      ]
     },
     "execution_count": 178,
     "metadata": {},
     "output_type": "execute_result"
    },
    {
     "data": {
      "image/png": "[encoded data removed]",
      "text/plain": [
       "<Figure size 432x288 with 1 Axes>"
      ]
     },
     "metadata": {},
     "output_type": "display_data"
    }
   ],
   "source": [
    "markers = ('s', 'x', 'o', '^', 'v')\n",
    "colors = ('red', 'blue', 'lightgreen', 'gray', 'cyan')\n",
    "cmap = ListedColormap(colors[:len(np.unique(y))])\n",
    "plt.scatter(housing_data['Postcode'],y,s=2,color='red')\n",
    "plt.contourf(xx1, xx2, Z, alpha=0.4, cmap=cmap)\n",
    "plt.xlim(xx1.min(), xx1.max())\n",
    "plt.ylim(xx2.min(), xx2.max())\n",
    "plt.xlabel('Postal code')\n",
    "plt.ylabel('Region')\n",
    "plt.legend(loc='upper left')"
   ]
  },
  {
   "cell_type": "markdown",
   "metadata": {},
   "source": [
    "<h4>Inference: We see that the Logistic Regression classifier has classified correctly. The decision boundary is in the middle of the 0 and 1 which is as expected.<br/>We also note that the classification by linear regression on this dataset is much better than that by the linear perceptron.</h4> "
   ]
  }
 ],
 "metadata": {
  "kernelspec": {
   "display_name": "Python 3",
   "language": "python",
   "name": "python3"
  },
  "language_info": {
   "codemirror_mode": {
    "name": "ipython",
    "version": 3
   },
   "file_extension": ".py",
   "mimetype": "text/x-python",
   "name": "python",
   "nbconvert_exporter": "python",
   "pygments_lexer": "ipython3",
   "version": "3.6.5"
  }
 },
 "nbformat": 4,
 "nbformat_minor": 2
}
